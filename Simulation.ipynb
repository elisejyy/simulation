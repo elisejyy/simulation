{
 "cells": [
  {
   "cell_type": "code",
   "execution_count": 1,
   "id": "d76390a8",
   "metadata": {},
   "outputs": [
    {
     "name": "stdout",
     "output_type": "stream",
     "text": [
      "[0, 1, 1, 2, 2, 2, 3, 3, 3, 4, 4, 4, 4, 4, 4, 5, 5, 5, 5, 5, 5, 5, 5, 6, 6, 6, 6, 6, 6, 6, 6, 6, 7, 7, 7, 7, 7, 8, 8, 8, 9, 9, 10, 10, 10, 11, 11, 12, 12, 13, 14]\n"
     ]
    },
    {
     "data": {
      "image/png": "[encoded data removed]",
      "text/plain": [
       "<Figure size 432x288 with 1 Axes>"
      ]
     },
     "metadata": {
      "needs_background": "light"
     },
     "output_type": "display_data"
    }
   ],
   "source": [
    "import simpy\n",
    "import random\n",
    "import numpy as np\n",
    "from matplotlib import pyplot as plt\n",
    "\n",
    "# Represents a single kid\n",
    "class kid(object):\n",
    "    \n",
    "    '''\n",
    "        env = environment\n",
    "        infected = boolean if child is infected or not\n",
    "        recovered = boolean if child is recovered or not\n",
    "        name = string of child's name\n",
    "        \n",
    "    '''\n",
    "    def __init__(self, env, infected=False, recovered=False, name=\"dummy\"):\n",
    "        self.env = env\n",
    "        self.infected = infected\n",
    "        self.recovered = recovered\n",
    "        self.name = name\n",
    "        self.days = []\n",
    "\n",
    "    '''\n",
    "        Infects healthy children, gets called if children get sick\n",
    "        \n",
    "        kids: list(kid)    List of all children\n",
    "        Return: None\n",
    "    '''\n",
    "    def infect(self, kids):\n",
    "        for k in kids:\n",
    "            if (not k.infected):\n",
    "                if (not k.recovered):\n",
    "                    infected = random.randrange(0, 100)\n",
    "                    if infected < 2:\n",
    "                        k.infected = True\n",
    "\n",
    "    '''\n",
    "        Simulating children's day\n",
    "        Will continuously loop through each day\n",
    "        \n",
    "        kids: list(kid)    List of all children\n",
    "        Return: None\n",
    "    '''\n",
    "    def sim(self, kids):\n",
    "        while True:\n",
    "            if self.infected:\n",
    "                for i in range(3):\n",
    "                    self.days.append(self.infected)\n",
    "                    yield self.env.timeout(1)\n",
    "                    self.infect(kids)\n",
    "                self.infected = False\n",
    "                self.recovered = True\n",
    "            else:\n",
    "                self.days.append(self.infected)\n",
    "                yield self.env.timeout(1)\n",
    "\n",
    "# Sets up the environment\n",
    "env = simpy.Environment()\n",
    "random.seed(654321)\n",
    "\n",
    "# Initialize children\n",
    "kids = []\n",
    "kids.append(kid(env, infected=True, name='Timmy'))\n",
    "for i in range(20):\n",
    "    kids.append(kid(env, name=str(i)))\n",
    "\n",
    "# Begins each simulation iteration\n",
    "for k in kids:\n",
    "    env.process(k.sim(kids))\n",
    "\n",
    "# How many times to run sim\n",
    "env.run(until=20)\n",
    "\n",
    "\n",
    "# Used to graph histogram\n",
    "arr = np.zeros(20)\n",
    "sickdays = []\n",
    "\n",
    "# Loops through each day and calculates number of sick kids\n",
    "for i in range(20):\n",
    "    for k in kids:\n",
    "        if k.days[i] == True:\n",
    "            sickdays.append(i)\n",
    "            arr[i] += 1\n",
    "\n",
    "# Plot histogram\n",
    "bins = list(range(20))\n",
    "\n",
    "plt.hist(sickdays, bins, histtype='bar', rwidth=.8)\n",
    "plt.xlabel('Days')\n",
    "plt.ylabel('Number of sick students')\n",
    "plt.title('Histogram of sick students')\n",
    " \n",
    "# Show plot\n",
    "plt.show()"
   ]
  },
  {
   "cell_type": "markdown",
   "id": "668819a1",
   "metadata": {},
   "source": [
    "With this seed, the pandemic will end in 15 days when the children are no longer infected."
   ]
  }
 ],
 "metadata": {
  "kernelspec": {
   "display_name": "Python 3 (ipykernel)",
   "language": "python",
   "name": "python3"
  },
  "language_info": {
   "codemirror_mode": {
    "name": "ipython",
    "version": 3
   },
   "file_extension": ".py",
   "mimetype": "text/x-python",
   "name": "python",
   "nbconvert_exporter": "python",
   "pygments_lexer": "ipython3",
   "version": "3.9.7"
  }
 },
 "nbformat": 4,
 "nbformat_minor": 5
}
